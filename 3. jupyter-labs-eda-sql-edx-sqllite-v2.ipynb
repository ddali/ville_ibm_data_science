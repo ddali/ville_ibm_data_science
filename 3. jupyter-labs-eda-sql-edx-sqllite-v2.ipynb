{
 "cells": [
  {
   "cell_type": "markdown",
   "id": "34b871e4-99b8-4a05-a062-0e3bff12c8e2",
   "metadata": {},
   "source": [
    "<p style=\"text-align:center\">\n",
    "    <a href=\"https://skills.network\" target=\"_blank\">\n",
    "    <img src=\"https://cf-courses-data.s3.us.cloud-object-storage.appdomain.cloud/assets/logos/SN_web_lightmode.png\" width=\"200\" alt=\"Skills Network Logo\">\n",
    "    </a>\n",
    "</p>\n",
    "\n",
    "<h1 align=center><font size = 5>Hands-on Lab: Complete the EDA with SQL</font></h1>\n",
    "\n",
    "Estimated time needed: **60** minutes.\n",
    "\n",
    "## Introduction\n",
    "Using this Python notebook you will:\n",
    "\n",
    "1.  Understand the Spacex DataSet\n",
    "2.  Load the dataset  into the corresponding table in a Db2 database\n",
    "3.  Execute SQL queries to answer assignment questions \n"
   ]
  },
  {
   "cell_type": "markdown",
   "id": "afe5af24-f9df-48eb-a452-5adb8a0992d1",
   "metadata": {},
   "source": [
    "## Overview of the DataSet\n",
    "\n",
    "SpaceX has gained worldwide attention for a series of historic milestones. \n",
    "\n",
    "It is the only private company ever to return a spacecraft from low-earth orbit, which it first accomplished in December 2010.\n",
    "SpaceX advertises Falcon 9 rocket launches on its website with a cost of 62 million dollars wheras other providers cost upward of 165 million dollars each, much of the savings is because Space X can reuse the first stage. \n",
    "\n",
    "\n",
    "Therefore if we can determine if the first stage will land, we can determine the cost of a launch. \n",
    "\n",
    "This information can be used if an alternate company wants to bid against SpaceX for a rocket launch.\n",
    "\n",
    "This dataset includes a record for each payload carried during a SpaceX mission into outer space.\n"
   ]
  },
  {
   "cell_type": "markdown",
   "id": "d579ffad-104d-44ae-bbba-3946dd79d606",
   "metadata": {},
   "source": [
    "### Download the datasets\n",
    "\n",
    "This assignment requires you to load the spacex dataset.\n",
    "\n",
    "In many cases the dataset to be analyzed is available as a .CSV (comma separated values) file, perhaps on the internet. Click on the link below to download and save the dataset (.CSV file):\n",
    "\n",
    " <a href=\"https://cf-courses-data.s3.us.cloud-object-storage.appdomain.cloud/IBM-DS0321EN-SkillsNetwork/labs/module_2/data/Spacex.csv\" target=\"_blank\">Spacex DataSet</a>\n",
    "\n"
   ]
  },
  {
   "cell_type": "code",
   "execution_count": 1,
   "id": "452d7074-7134-4169-87eb-a172f576478e",
   "metadata": {},
   "outputs": [
    {
     "name": "stdout",
     "output_type": "stream",
     "text": [
      "Collecting sqlalchemy==1.4\n",
      "  Downloading SQLAlchemy-1.4.0.tar.gz (7.4 MB)\n",
      "     ---------------------------------------- 0.0/7.4 MB ? eta -:--:--\n",
      "     ------------ --------------------------- 2.4/7.4 MB 11.8 MB/s eta 0:00:01\n",
      "     ------------------------- -------------- 4.7/7.4 MB 11.8 MB/s eta 0:00:01\n",
      "     -------------------------------------- - 7.1/7.4 MB 11.8 MB/s eta 0:00:01\n",
      "     ---------------------------------------- 7.4/7.4 MB 11.6 MB/s eta 0:00:00\n",
      "  Installing build dependencies: started\n",
      "  Installing build dependencies: finished with status 'done'\n",
      "  Getting requirements to build wheel: started\n",
      "  Getting requirements to build wheel: finished with status 'done'\n",
      "  Preparing metadata (pyproject.toml): started\n",
      "  Preparing metadata (pyproject.toml): finished with status 'done'\n",
      "Collecting greenlet!=0.4.17 (from sqlalchemy==1.4)\n",
      "  Downloading greenlet-3.2.4-cp313-cp313-win_amd64.whl.metadata (4.2 kB)\n",
      "Downloading greenlet-3.2.4-cp313-cp313-win_amd64.whl (299 kB)\n",
      "Building wheels for collected packages: sqlalchemy\n",
      "  Building wheel for sqlalchemy (pyproject.toml): started\n",
      "  Building wheel for sqlalchemy (pyproject.toml): finished with status 'done'\n",
      "  Created wheel for sqlalchemy: filename=sqlalchemy-1.4.0-cp313-cp313-win_amd64.whl size=1449925 sha256=8cae0a4ddf0959f0bba8bdc51f4ac4bba18476ecbec62236ca2e70d85d9f1a72\n",
      "  Stored in directory: c:\\users\\nurmi\\appdata\\local\\pip\\cache\\wheels\\6b\\dc\\03\\adb7971fa63f760bf28b8f7f2e12aff349ffd467ea7ce67dcd\n",
      "Successfully built sqlalchemy\n",
      "Installing collected packages: greenlet, sqlalchemy\n",
      "Successfully installed greenlet-3.2.4 sqlalchemy-1.4.0\n"
     ]
    },
    {
     "name": "stderr",
     "output_type": "stream",
     "text": [
      "\n",
      "[notice] A new release of pip is available: 24.3.1 -> 25.2\n",
      "[notice] To update, run: python.exe -m pip install --upgrade pip\n"
     ]
    },
    {
     "name": "stdout",
     "output_type": "stream",
     "text": [
      "Collecting ipython-sql\n",
      "  Downloading ipython_sql-0.5.0-py3-none-any.whl.metadata (17 kB)\n",
      "Collecting prettytable (from ipython-sql)\n",
      "  Downloading prettytable-3.16.0-py3-none-any.whl.metadata (33 kB)\n",
      "Requirement already satisfied: ipython in c:\\a_omia juttuja\\ohjelmointi\\ville_ibm_data_science\\venv\\lib\\site-packages (from ipython-sql) (9.6.0)\n",
      "Collecting sqlalchemy>=2.0 (from ipython-sql)\n",
      "  Downloading sqlalchemy-2.0.44-cp313-cp313-win_amd64.whl.metadata (9.8 kB)\n",
      "Collecting sqlparse (from ipython-sql)\n",
      "  Downloading sqlparse-0.5.3-py3-none-any.whl.metadata (3.9 kB)\n",
      "Requirement already satisfied: six in c:\\a_omia juttuja\\ohjelmointi\\ville_ibm_data_science\\venv\\lib\\site-packages (from ipython-sql) (1.17.0)\n",
      "Collecting ipython-genutils (from ipython-sql)\n",
      "  Downloading ipython_genutils-0.2.0-py2.py3-none-any.whl.metadata (755 bytes)\n",
      "Requirement already satisfied: greenlet>=1 in c:\\a_omia juttuja\\ohjelmointi\\ville_ibm_data_science\\venv\\lib\\site-packages (from sqlalchemy>=2.0->ipython-sql) (3.2.4)\n",
      "Collecting typing-extensions>=4.6.0 (from sqlalchemy>=2.0->ipython-sql)\n",
      "  Downloading typing_extensions-4.15.0-py3-none-any.whl.metadata (3.3 kB)\n",
      "Requirement already satisfied: colorama in c:\\a_omia juttuja\\ohjelmointi\\ville_ibm_data_science\\venv\\lib\\site-packages (from ipython->ipython-sql) (0.4.6)\n",
      "Requirement already satisfied: decorator in c:\\a_omia juttuja\\ohjelmointi\\ville_ibm_data_science\\venv\\lib\\site-packages (from ipython->ipython-sql) (5.2.1)\n",
      "Requirement already satisfied: ipython-pygments-lexers in c:\\a_omia juttuja\\ohjelmointi\\ville_ibm_data_science\\venv\\lib\\site-packages (from ipython->ipython-sql) (1.1.1)\n",
      "Requirement already satisfied: jedi>=0.16 in c:\\a_omia juttuja\\ohjelmointi\\ville_ibm_data_science\\venv\\lib\\site-packages (from ipython->ipython-sql) (0.19.2)\n",
      "Requirement already satisfied: matplotlib-inline in c:\\a_omia juttuja\\ohjelmointi\\ville_ibm_data_science\\venv\\lib\\site-packages (from ipython->ipython-sql) (0.1.7)\n",
      "Requirement already satisfied: prompt_toolkit<3.1.0,>=3.0.41 in c:\\a_omia juttuja\\ohjelmointi\\ville_ibm_data_science\\venv\\lib\\site-packages (from ipython->ipython-sql) (3.0.52)\n",
      "Requirement already satisfied: pygments>=2.4.0 in c:\\a_omia juttuja\\ohjelmointi\\ville_ibm_data_science\\venv\\lib\\site-packages (from ipython->ipython-sql) (2.19.2)\n",
      "Requirement already satisfied: stack_data in c:\\a_omia juttuja\\ohjelmointi\\ville_ibm_data_science\\venv\\lib\\site-packages (from ipython->ipython-sql) (0.6.3)\n",
      "Requirement already satisfied: traitlets>=5.13.0 in c:\\a_omia juttuja\\ohjelmointi\\ville_ibm_data_science\\venv\\lib\\site-packages (from ipython->ipython-sql) (5.14.3)\n",
      "Requirement already satisfied: wcwidth in c:\\a_omia juttuja\\ohjelmointi\\ville_ibm_data_science\\venv\\lib\\site-packages (from prettytable->ipython-sql) (0.2.14)\n",
      "Requirement already satisfied: parso<0.9.0,>=0.8.4 in c:\\a_omia juttuja\\ohjelmointi\\ville_ibm_data_science\\venv\\lib\\site-packages (from jedi>=0.16->ipython->ipython-sql) (0.8.5)\n",
      "Requirement already satisfied: executing>=1.2.0 in c:\\a_omia juttuja\\ohjelmointi\\ville_ibm_data_science\\venv\\lib\\site-packages (from stack_data->ipython->ipython-sql) (2.2.1)\n",
      "Requirement already satisfied: asttokens>=2.1.0 in c:\\a_omia juttuja\\ohjelmointi\\ville_ibm_data_science\\venv\\lib\\site-packages (from stack_data->ipython->ipython-sql) (3.0.0)\n",
      "Requirement already satisfied: pure-eval in c:\\a_omia juttuja\\ohjelmointi\\ville_ibm_data_science\\venv\\lib\\site-packages (from stack_data->ipython->ipython-sql) (0.2.3)\n",
      "Downloading ipython_sql-0.5.0-py3-none-any.whl (20 kB)\n",
      "Downloading sqlalchemy-2.0.44-cp313-cp313-win_amd64.whl (2.1 MB)\n",
      "   ---------------------------------------- 0.0/2.1 MB ? eta -:--:--\n",
      "   ---------------------------------------- 2.1/2.1 MB 11.5 MB/s eta 0:00:00\n",
      "Downloading ipython_genutils-0.2.0-py2.py3-none-any.whl (26 kB)\n",
      "Downloading prettytable-3.16.0-py3-none-any.whl (33 kB)\n",
      "Downloading sqlparse-0.5.3-py3-none-any.whl (44 kB)\n",
      "Downloading typing_extensions-4.15.0-py3-none-any.whl (44 kB)\n",
      "Installing collected packages: ipython-genutils, typing-extensions, sqlparse, prettytable, sqlalchemy, ipython-sql\n",
      "  Attempting uninstall: sqlalchemy\n",
      "    Found existing installation: SQLAlchemy 1.4.0\n",
      "    Uninstalling SQLAlchemy-1.4.0:\n",
      "      Successfully uninstalled SQLAlchemy-1.4.0\n",
      "Successfully installed ipython-genutils-0.2.0 ipython-sql-0.5.0 prettytable-3.16.0 sqlalchemy-2.0.44 sqlparse-0.5.3 typing-extensions-4.15.0\n"
     ]
    },
    {
     "name": "stderr",
     "output_type": "stream",
     "text": [
      "\n",
      "[notice] A new release of pip is available: 24.3.1 -> 25.2\n",
      "[notice] To update, run: python.exe -m pip install --upgrade pip\n"
     ]
    },
    {
     "name": "stdout",
     "output_type": "stream",
     "text": [
      "Requirement already satisfied: pandas in c:\\a_omia juttuja\\ohjelmointi\\ville_ibm_data_science\\venv\\lib\\site-packages (2.3.3)\n",
      "Requirement already satisfied: numpy>=1.26.0 in c:\\a_omia juttuja\\ohjelmointi\\ville_ibm_data_science\\venv\\lib\\site-packages (from pandas) (2.3.3)\n",
      "Requirement already satisfied: python-dateutil>=2.8.2 in c:\\a_omia juttuja\\ohjelmointi\\ville_ibm_data_science\\venv\\lib\\site-packages (from pandas) (2.9.0.post0)\n",
      "Requirement already satisfied: pytz>=2020.1 in c:\\a_omia juttuja\\ohjelmointi\\ville_ibm_data_science\\venv\\lib\\site-packages (from pandas) (2025.2)\n",
      "Requirement already satisfied: tzdata>=2022.7 in c:\\a_omia juttuja\\ohjelmointi\\ville_ibm_data_science\\venv\\lib\\site-packages (from pandas) (2025.2)\n",
      "Requirement already satisfied: six>=1.5 in c:\\a_omia juttuja\\ohjelmointi\\ville_ibm_data_science\\venv\\lib\\site-packages (from python-dateutil>=2.8.2->pandas) (1.17.0)\n"
     ]
    },
    {
     "name": "stderr",
     "output_type": "stream",
     "text": [
      "\n",
      "[notice] A new release of pip is available: 24.3.1 -> 25.2\n",
      "[notice] To update, run: python.exe -m pip install --upgrade pip\n"
     ]
    }
   ],
   "source": [
    "!pip install sqlalchemy==1.4\n",
    "!pip install ipython-sql\n",
    "!pip install pandas"
   ]
  },
  {
   "cell_type": "markdown",
   "id": "a27f20a7-d86c-41f4-8ae8-bce33d6193bc",
   "metadata": {},
   "source": [
    "### Connect to the database\n",
    "\n",
    "Let us first load the SQL extension and establish a connection with the database\n"
   ]
  },
  {
   "cell_type": "code",
   "execution_count": 2,
   "id": "228dae84-86b6-4a40-b1b2-2e04f3c8d8e5",
   "metadata": {},
   "outputs": [],
   "source": [
    "%load_ext sql"
   ]
  },
  {
   "cell_type": "code",
   "execution_count": 3,
   "id": "0fdad398-1acf-4f58-8fd6-2571d942c2ed",
   "metadata": {},
   "outputs": [],
   "source": [
    "import csv, sqlite3\n",
    "\n",
    "con = sqlite3.connect(\"my_data1.db\")\n",
    "cur = con.cursor()"
   ]
  },
  {
   "cell_type": "code",
   "execution_count": 4,
   "id": "532dc187-c7d1-4af4-b6ee-36dbf4740eb1",
   "metadata": {},
   "outputs": [],
   "source": [
    "%sql sqlite:///my_data1.db"
   ]
  },
  {
   "cell_type": "code",
   "execution_count": 5,
   "id": "59a85188-1137-494b-b86a-94856dacf1ff",
   "metadata": {},
   "outputs": [
    {
     "data": {
      "text/plain": [
       "101"
      ]
     },
     "execution_count": 5,
     "metadata": {},
     "output_type": "execute_result"
    }
   ],
   "source": [
    "import pandas as pd\n",
    "df = pd.read_csv(\"https://cf-courses-data.s3.us.cloud-object-storage.appdomain.cloud/IBM-DS0321EN-SkillsNetwork/labs/module_2/data/Spacex.csv\")\n",
    "df.to_sql(\"SPACEXTBL\", con, if_exists='replace', index=False,method=\"multi\")"
   ]
  },
  {
   "cell_type": "markdown",
   "id": "48f5373e-7e31-4dab-9def-8c9b7edf2311",
   "metadata": {},
   "source": [
    "**Note:This below code is added to remove blank rows from table**\n"
   ]
  },
  {
   "cell_type": "code",
   "execution_count": 6,
   "id": "79ad5faa-6359-4716-9f61-500db1f958ad",
   "metadata": {},
   "outputs": [
    {
     "name": "stdout",
     "output_type": "stream",
     "text": [
      " * sqlite:///my_data1.db\n",
      "Done.\n"
     ]
    },
    {
     "data": {
      "text/plain": [
       "[]"
      ]
     },
     "execution_count": 6,
     "metadata": {},
     "output_type": "execute_result"
    }
   ],
   "source": [
    "%sql create table SPACEXTABLE as select * from SPACEXTBL where Date is not null"
   ]
  },
  {
   "cell_type": "markdown",
   "id": "7da610f2-2e35-4fd4-8ddb-433236e6074d",
   "metadata": {},
   "source": [
    "## Tasks\n",
    "\n",
    "Now write and execute SQL queries to solve the assignment tasks.\n",
    "\n",
    "**Note: If the column names are in mixed case enclose it in double quotes\n",
    "   For Example \"Landing_Outcome\"** . \n",
    "\n",
    "   \n",
    "\n",
    "### Task 1\n",
    "\n",
    "\n",
    "\n",
    "\n",
    "##### Display the names of the unique launch sites  in the space mission\n"
   ]
  },
  {
   "cell_type": "code",
   "execution_count": 10,
   "id": "32107743-3774-4e86-8867-8a41451e0920",
   "metadata": {},
   "outputs": [
    {
     "name": "stdout",
     "output_type": "stream",
     "text": [
      "    Launch_Site\n",
      "0   CCAFS LC-40\n",
      "1   VAFB SLC-4E\n",
      "2    KSC LC-39A\n",
      "3  CCAFS SLC-40\n"
     ]
    }
   ],
   "source": [
    "query = \"SELECT DISTINCT Launch_Site FROM SPACEXTBL\"\n",
    "unique_sites = pd.read_sql(query, con)\n",
    "print(unique_sites)\n",
    "\n"
   ]
  },
  {
   "cell_type": "markdown",
   "id": "80785424-7114-408f-8d43-7bfef3915d28",
   "metadata": {},
   "source": [
    "\n",
    "### Task 2\n",
    "\n",
    "\n",
    "#####  Display 5 records where launch sites begin with the string 'KSC' \n"
   ]
  },
  {
   "cell_type": "code",
   "execution_count": null,
   "id": "5e365875-31c2-4d2c-89d6-d6c6de7bfdd7",
   "metadata": {},
   "outputs": [
    {
     "name": "stdout",
     "output_type": "stream",
     "text": [
      "(0, 'Date', 'TEXT', 0, None, 0)\n",
      "(1, 'Time (UTC)', 'TEXT', 0, None, 0)\n",
      "(2, 'Booster_Version', 'TEXT', 0, None, 0)\n",
      "(3, 'Launch_Site', 'TEXT', 0, None, 0)\n",
      "(4, 'Payload', 'TEXT', 0, None, 0)\n",
      "(5, 'PAYLOAD_MASS__KG_', 'INTEGER', 0, None, 0)\n",
      "(6, 'Orbit', 'TEXT', 0, None, 0)\n",
      "(7, 'Customer', 'TEXT', 0, None, 0)\n",
      "(8, 'Mission_Outcome', 'TEXT', 0, None, 0)\n",
      "(9, 'Landing_Outcome', 'TEXT', 0, None, 0)\n"
     ]
    }
   ],
   "source": [
    "# Checking all column names\n",
    "cursor = con.cursor()\n",
    "cursor.execute(\"PRAGMA table_info(SPACEXTBL)\")\n",
    "columns = cursor.fetchall()\n",
    "\n",
    "for col in columns:\n",
    "    print(col)\n"
   ]
  },
  {
   "cell_type": "code",
   "execution_count": 21,
   "metadata": {},
   "outputs": [
    {
     "name": "stdout",
     "output_type": "stream",
     "text": [
      "          Date Time (UTC) Booster_Version Launch_Site  \\\n",
      "0   2017-02-19   14:39:00   F9 FT B1031.1  KSC LC-39A   \n",
      "1   2017-03-16    6:00:00     F9 FT B1030  KSC LC-39A   \n",
      "2   2017-03-30   22:27:00  F9 FT  B1021.2  KSC LC-39A   \n",
      "3   2017-05-01   11:15:00   F9 FT B1032.1  KSC LC-39A   \n",
      "4   2017-05-15   23:21:00     F9 FT B1034  KSC LC-39A   \n",
      "5   2017-06-03   21:07:00   F9 FT B1035.1  KSC LC-39A   \n",
      "6   2017-06-23   19:10:00  F9 FT  B1029.2  KSC LC-39A   \n",
      "7   2017-07-05   23:38:00     F9 FT B1037  KSC LC-39A   \n",
      "8   2017-08-14   16:31:00   F9 B4 B1039.1  KSC LC-39A   \n",
      "9   2017-09-07   14:00:00   F9 B4 B1040.1  KSC LC-39A   \n",
      "10  2017-10-11   22:53:00  F9 FT  B1031.2  KSC LC-39A   \n",
      "11  2017-10-30   19:34:00   F9 B4 B1042.1  KSC LC-39A   \n",
      "12  2018-05-11   20:14:00  F9 B5  B1046.1  KSC LC-39A   \n",
      "13  2018-11-15   20:46:00   F9 B5 B1047.2  KSC LC-39A   \n",
      "14  2019-03-02    7:49:00    F9 B5B1051.1  KSC LC-39A   \n",
      "15  2020-01-19   15:30:00   F9 B5 B1046.4  KSC LC-39A   \n",
      "16  2020-03-18   12:16:00   F9 B5 B1048.5  KSC LC-39A   \n",
      "17  2020-04-22   19:30:00   F9 B5 B1051.4  KSC LC-39A   \n",
      "18  2020-05-30   19:22:00   F9 B5B1058.1   KSC LC-39A   \n",
      "19  2020-08-07    5:12:00   F9 B5 B1051.5  KSC LC-39A   \n",
      "20  2020-09-03   12:46:14  F9 B5 B1060.2   KSC LC-39A   \n",
      "21  2020-10-06   11:29:34  F9 B5 B1058.3   KSC LC-39A   \n",
      "22  2020-10-18   12:25:57   F9 B5 B1051.6  KSC LC-39A   \n",
      "23  2020-11-16    0:27:00   F9 B5B1061.1   KSC LC-39A   \n",
      "24  2020-12-06   16:17:08  F9 B5 B1058.4   KSC LC-39A   \n",
      "\n",
      "                                              Payload  PAYLOAD_MASS__KG_  \\\n",
      "0                                       SpaceX CRS-10               2490   \n",
      "1                                         EchoStar 23               5600   \n",
      "2                                              SES-10               5300   \n",
      "3                                             NROL-76               5300   \n",
      "4                                       Inmarsat-5 F4               6070   \n",
      "5                                       SpaceX CRS-11               2708   \n",
      "6                                       BulgariaSat-1               3669   \n",
      "7                                        Intelsat 35e               6761   \n",
      "8                                       SpaceX CRS-12               3310   \n",
      "9                                  Boeing X-37B OTV-5               4990   \n",
      "10                              SES-11 / EchoStar 105               5200   \n",
      "11                                        Koreasat 5A               3500   \n",
      "12                                      Bangabandhu-1               3600   \n",
      "13                                          Es hail 2               5300   \n",
      "14                 Crew Dragon Demo-1, SpaceX CRS-17               12055   \n",
      "15  Crew Dragon in-flight abort test, Starlink 3 v...              12050   \n",
      "16                  Starlink 5 v1.0, Starlink 6 v1.0               15600   \n",
      "17               Starlink 6 v1.0, Crew Dragon Demo-2               15600   \n",
      "18               Crew Dragon Demo-2, Starlink 7 v1.0               12530   \n",
      "19         Starlink 9 v1.0, SXRS-1, Starlink 10 v1.0               14932   \n",
      "20                Starlink 11 v1.0, Starlink 12 v1.0               15600   \n",
      "21                Starlink 12 v1.0, Starlink 13 v1.0               15600   \n",
      "22                Starlink 13 v1.0, Starlink 14 v1.0               15600   \n",
      "23               Crew-1, Sentinel-6 Michael Freilich               12500   \n",
      "24                                      SpaceX CRS-21               2972   \n",
      "\n",
      "          Orbit                                           Customer  \\\n",
      "0     LEO (ISS)                                         NASA (CRS)   \n",
      "1           GTO                                           EchoStar   \n",
      "2           GTO                                                SES   \n",
      "3           LEO                                                NRO   \n",
      "4           GTO                                           Inmarsat   \n",
      "5     LEO (ISS)                                         NASA (CRS)   \n",
      "6           GTO                                          Bulsatcom   \n",
      "7           GTO                                           Intelsat   \n",
      "8     LEO (ISS)                                         NASA (CRS)   \n",
      "9           LEO                                     U.S. Air Force   \n",
      "10          GTO                                       SES EchoStar   \n",
      "11          GTO                                     KT Corporation   \n",
      "12          GTO                                 Thales-Alenia/BTRC   \n",
      "13          GTO                                         Es hailSat   \n",
      "14    LEO (ISS)                                        NASA (CCD)    \n",
      "15  Sub-orbital                                         NASA (CTS)   \n",
      "16          LEO                                             SpaceX   \n",
      "17          LEO                                             SpaceX   \n",
      "18    LEO (ISS)                                       NASA (CCDev)   \n",
      "19          LEO  SpaceX, Spaceflight Industries (BlackSky), Pla...   \n",
      "20          LEO                                             SpaceX   \n",
      "21          LEO                                             SpaceX   \n",
      "22          LEO                                             SpaceX   \n",
      "23    LEO (ISS)                                         NASA (CCP)   \n",
      "24    LEO (ISS)                                         NASA (CRS)   \n",
      "\n",
      "   Mission_Outcome       Landing_Outcome  \n",
      "0          Success  Success (ground pad)  \n",
      "1          Success            No attempt  \n",
      "2          Success  Success (drone ship)  \n",
      "3          Success  Success (ground pad)  \n",
      "4          Success            No attempt  \n",
      "5          Success  Success (ground pad)  \n",
      "6          Success  Success (drone ship)  \n",
      "7          Success            No attempt  \n",
      "8          Success  Success (ground pad)  \n",
      "9          Success  Success (ground pad)  \n",
      "10         Success  Success (drone ship)  \n",
      "11         Success  Success (drone ship)  \n",
      "12         Success  Success (drone ship)  \n",
      "13         Success               Success  \n",
      "14         Success               Success  \n",
      "15         Success            No attempt  \n",
      "16         Success               Failure  \n",
      "17         Success               Success  \n",
      "18         Success               Success  \n",
      "19         Success               Success  \n",
      "20         Success               Success  \n",
      "21         Success               Success  \n",
      "22         Success               Success  \n",
      "23         Success               Success  \n",
      "24         Success               Success  \n"
     ]
    }
   ],
   "source": [
    "query = \"SELECT * FROM SPACEXTBL WHERE Launch_Site LIKE 'KSC%'\"\n",
    "ksc_launches = pd.read_sql(query, con)\n",
    "print(ksc_launches)\n",
    "\n"
   ]
  },
  {
   "cell_type": "markdown",
   "id": "4184aed7-20b8-4642-87a0-03a084f665ac",
   "metadata": {},
   "source": [
    "### Task 3\n",
    "\n",
    "\n",
    "\n",
    "\n",
    "##### Display the total payload mass carried by boosters launched by NASA (CRS)\n"
   ]
  },
  {
   "cell_type": "code",
   "execution_count": 22,
   "id": "f3512420-bfde-4933-b81b-ba5ddb3e3b61",
   "metadata": {},
   "outputs": [
    {
     "name": "stdout",
     "output_type": "stream",
     "text": [
      "   Booster_Version  Total_Mass_KG\n",
      "0   F9 B4  B1039.2           2647\n",
      "1    F9 B4 B1039.1           3310\n",
      "2    F9 B4 B1045.2           2697\n",
      "3    F9 B5 B1048.4          15600\n",
      "4   F9 B5 B1049.7           15600\n",
      "5   F9 B5 B1051.2            4200\n",
      "6   F9 B5 B1056.2            2268\n",
      "7    F9 B5 B1056.4          15600\n",
      "8   F9 B5 B1058.4            2972\n",
      "9    F9 B5 B1059.2           1977\n",
      "10      F9 B5B1050           2500\n",
      "11    F9 B5B1051.1          12055\n",
      "12   F9 B5B1056.1            2495\n",
      "13    F9 B5B1059.1           2617\n",
      "14  F9 FT  B1035.2           2205\n",
      "15   F9 FT B1021.1           3136\n",
      "16   F9 FT B1025.1           2257\n",
      "17   F9 FT B1031.1           2490\n",
      "18   F9 FT B1035.1           2708\n",
      "19  F9 v1.0  B0006            500\n",
      "20  F9 v1.0  B0007            677\n",
      "21         F9 v1.1           2296\n",
      "22   F9 v1.1 B1010           2216\n",
      "23   F9 v1.1 B1012           2395\n",
      "24   F9 v1.1 B1015           1898\n",
      "25   F9 v1.1 B1018           1952\n"
     ]
    }
   ],
   "source": [
    "query = \"\"\"\n",
    "SELECT Booster_Version, SUM(PAYLOAD_MASS__KG_) AS Total_Mass_KG\n",
    "FROM SPACEXTBL\n",
    "WHERE Payload LIKE '%CRS%'\n",
    "GROUP BY Booster_Version\n",
    "\"\"\"\n",
    "crs_mass_by_booster = pd.read_sql(query, con)\n",
    "print(crs_mass_by_booster)\n",
    "\n",
    "\n"
   ]
  },
  {
   "cell_type": "markdown",
   "id": "a3eae23f-4765-47de-8441-3753ccddb159",
   "metadata": {},
   "source": [
    "### Task 4\n",
    "\n",
    "\n",
    "\n",
    "\n",
    "##### Display average payload mass carried by booster version F9 v1.1\n"
   ]
  },
  {
   "cell_type": "code",
   "execution_count": 23,
   "id": "0b7c2b53-e52f-4ce3-8ab9-75dc010473c5",
   "metadata": {},
   "outputs": [
    {
     "name": "stdout",
     "output_type": "stream",
     "text": [
      "Average payload mass for F9 v1.1: 2534.67 kg\n"
     ]
    }
   ],
   "source": [
    "query = \"\"\"\n",
    "SELECT AVG(PAYLOAD_MASS__KG_) AS Average_Mass_KG\n",
    "FROM SPACEXTBL\n",
    "WHERE Booster_Version LIKE 'F9 v1.1%'\n",
    "\"\"\"\n",
    "avg_mass_df = pd.read_sql(query, con)\n",
    "print(f\"Average payload mass for F9 v1.1: {avg_mass_df['Average_Mass_KG'][0]:.2f} kg\")\n"
   ]
  },
  {
   "cell_type": "markdown",
   "id": "70e59369-2c44-480a-bb9a-c9e84149a4d3",
   "metadata": {},
   "source": [
    "### Task 5\n",
    "\n",
    "##### List the date where the succesful landing outcome in drone ship was acheived.\n",
    "\n",
    "\n",
    "_Hint:Use min function_ \n"
   ]
  },
  {
   "cell_type": "code",
   "execution_count": 24,
   "id": "3095ce77-bd49-4fde-bd2a-93183aee2743",
   "metadata": {},
   "outputs": [
    {
     "name": "stdout",
     "output_type": "stream",
     "text": [
      "First ground pad landing: 2015-12-22\n"
     ]
    }
   ],
   "source": [
    "first_date = df[df['Landing_Outcome'] == 'Success (ground pad)']['Date'].min()\n",
    "print(f\"First ground pad landing: {first_date}\")\n"
   ]
  },
  {
   "cell_type": "markdown",
   "id": "438c0fdf-5a57-4f57-9597-f8571b3199b3",
   "metadata": {},
   "source": [
    "### Task 6\n",
    "\n",
    "##### List the names of the boosters which have success in ground pad  and have payload mass greater than 4000 but less than 6000\n"
   ]
  },
  {
   "cell_type": "code",
   "execution_count": 25,
   "id": "ec2e4f94-23b8-4e52-890c-f3076da78fdd",
   "metadata": {},
   "outputs": [
    {
     "name": "stdout",
     "output_type": "stream",
     "text": [
      "  Booster_Version\n",
      "0   F9 FT B1032.1\n",
      "1   F9 B4 B1040.1\n",
      "2   F9 B4 B1043.1\n"
     ]
    }
   ],
   "source": [
    "query = \"\"\"\n",
    "SELECT DISTINCT Booster_Version\n",
    "FROM SPACEXTBL\n",
    "WHERE Landing_Outcome = 'Success (ground pad)'\n",
    "  AND PAYLOAD_MASS__KG_ > 4000\n",
    "  AND PAYLOAD_MASS__KG_ < 6000\n",
    "\"\"\"\n",
    "filtered_boosters_df = pd.read_sql(query, con)\n",
    "print(filtered_boosters_df)\n"
   ]
  },
  {
   "cell_type": "markdown",
   "id": "16133506-721c-4fcf-850a-951edcb4e334",
   "metadata": {},
   "source": [
    "### Task 7\n",
    "\n",
    "\n",
    "\n",
    "\n",
    "##### List the total number of successful and failure mission outcomes\n"
   ]
  },
  {
   "cell_type": "code",
   "execution_count": 26,
   "id": "17fae7a4-d5b0-4808-afc3-c66a1a9ef496",
   "metadata": {},
   "outputs": [
    {
     "name": "stdout",
     "output_type": "stream",
     "text": [
      "Total records with Success or Failure: 41\n"
     ]
    }
   ],
   "source": [
    "count = df[df['Landing_Outcome'].isin(['Success', 'Failure'])].shape[0]\n",
    "print(f\"Total records with Success or Failure: {count}\")\n"
   ]
  },
  {
   "cell_type": "markdown",
   "id": "f44d9221-6629-46fc-a762-904efcdf559a",
   "metadata": {},
   "source": [
    "### Task 8\n",
    "\n",
    "\n",
    "\n",
    "##### List all the booster_versions that have carried the maximum payload mass. Use a subquery.\n"
   ]
  },
  {
   "cell_type": "code",
   "execution_count": null,
   "id": "9e52b3e5-f079-4f0b-a1da-cb2a93556c75",
   "metadata": {},
   "outputs": [],
   "source": [
    "\n"
   ]
  },
  {
   "cell_type": "markdown",
   "id": "d2342932-c6ed-4bdc-bc05-8b4d43df3cd9",
   "metadata": {},
   "source": [
    "### Task 9\n",
    "\n",
    "\n",
    "##### List the records which will display the month names, succesful landing_outcomes in ground pad ,booster versions, launch_site for the months in year 2017\n",
    "**Note: SQLLite does not support monthnames. So you need to use substr(Date,6,2) for month, substr(Date,9,2) for date, substr(Date,0,5),='2017' for year.**\n"
   ]
  },
  {
   "cell_type": "code",
   "execution_count": null,
   "id": "cba3c12a-53da-41b5-b885-335f9393b6aa",
   "metadata": {},
   "outputs": [],
   "source": []
  },
  {
   "cell_type": "markdown",
   "id": "38598d5a-4a2c-44e2-9f98-5a0a47d150e5",
   "metadata": {},
   "source": [
    "### Task 10\n",
    "\n",
    "\n",
    "\n",
    "\n",
    "##### Rank the count of landing outcomes (such as Failure (drone ship) or Success (ground pad)) between the date 2010-06-04 and 2017-03-20, in descending order\n"
   ]
  },
  {
   "cell_type": "code",
   "execution_count": null,
   "id": "3865d6a1-ba1a-43c9-807f-95ff2c1353f5",
   "metadata": {},
   "outputs": [],
   "source": [
    "\n"
   ]
  },
  {
   "cell_type": "markdown",
   "id": "fd461f0e-6396-43ae-b343-36b8ece5d0a6",
   "metadata": {},
   "source": [
    "### Reference Links\n",
    "\n",
    "* <a href =\"https://cf-courses-data.s3.us.cloud-object-storage.appdomain.cloud/IBMDeveloperSkillsNetwork-DB0201EN-SkillsNetwork/labs/Module%203/LAB-String_Patterns_Sorting_Grouping.md.html\">Hands-on Lab : String Patterns, Sorting and Grouping</a>  \n",
    "\n",
    "*  <a  href=\"https://cf-courses-data.s3.us.cloud-object-storage.appdomain.cloud/IBMDeveloperSkillsNetwork-DB0201EN-SkillsNetwork/labs/Labs_Coursera_V5/labs/Lab%20-%20Built-in%20functions%20/Hands-on_Lab__Built-in_Functions.md.html\">Hands-on Lab: Built-in functions</a>\n",
    "\n",
    "*  <a  href=\"https://cf-courses-data.s3.us.cloud-object-storage.appdomain.cloud/IBMDeveloperSkillsNetwork-DB0201EN-SkillsNetwork/labs/Labs_Coursera_V5/labs/Lab%20-%20Sub-queries%20and%20Nested%20SELECTs%20/instructional-labs.md.html\">Hands-on Lab : Sub-queries and Nested SELECT Statements</a>\n",
    "\n",
    "*   <a href=\"https://cf-courses-data.s3.us.cloud-object-storage.appdomain.cloud/IBMDeveloperSkillsNetwork-DB0201EN-SkillsNetwork/labs/Module%205/DB0201EN-Week3-1-3-SQLmagic.ipynb\">Hands-on Tutorial: Accessing Databases with SQL magic</a>\n",
    "\n",
    "*  <a href= \"https://cf-courses-data.s3.us.cloud-object-storage.appdomain.cloud/IBMDeveloperSkillsNetwork-DB0201EN-SkillsNetwork/labs/Module%205/DB0201EN-Week3-1-4-Analyzing.ipynb\">Hands-on Lab: Analyzing a real World Data Set</a>\n"
   ]
  },
  {
   "cell_type": "markdown",
   "id": "12dabcc5-d40e-4659-b2e2-1f70ebe70fea",
   "metadata": {},
   "source": [
    "## Author(s)\n",
    "\n",
    "<h4> Lakshmi Holla </h4>\n"
   ]
  },
  {
   "cell_type": "markdown",
   "id": "8340b1a7-735c-4e84-beb5-8acf85e4ff69",
   "metadata": {},
   "source": [
    "## Other Contributors\n",
    "\n",
    "<h4> Rav Ahuja </h4>\n"
   ]
  },
  {
   "cell_type": "markdown",
   "id": "f255ae87-4172-4892-8fd8-6eaf8bec02ea",
   "metadata": {},
   "source": [
    "<!--## Change log\n",
    "| Date | Version | Changed by | Change Description |\n",
    "|------|--------|--------|---------|\n",
    "| 2021-07-09 | 0.2 |Lakshmi Holla | Changes made in magic sql|\n",
    "| 2021-05-20 | 0.1 |Lakshmi Holla | Created Initial Version |\n",
    "--!>\n"
   ]
  },
  {
   "cell_type": "markdown",
   "id": "2ecb8626-db9e-4aed-b43c-7d866213a5f4",
   "metadata": {},
   "source": [
    "## <h3 align=\"center\"> © IBM Corporation 2021. All rights reserved. <h3/>\n"
   ]
  }
 ],
 "metadata": {
  "kernelspec": {
   "display_name": "venv",
   "language": "python",
   "name": "python3"
  },
  "language_info": {
   "codemirror_mode": {
    "name": "ipython",
    "version": 3
   },
   "file_extension": ".py",
   "mimetype": "text/x-python",
   "name": "python",
   "nbconvert_exporter": "python",
   "pygments_lexer": "ipython3",
   "version": "3.13.2"
  },
  "prev_pub_hash": "f4e9d52e6f1d349bc812fc948cc3020934b9f83d28cd068dd22a39062f97e6c0"
 },
 "nbformat": 4,
 "nbformat_minor": 4
}
